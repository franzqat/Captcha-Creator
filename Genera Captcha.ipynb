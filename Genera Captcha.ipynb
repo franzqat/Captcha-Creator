{
 "cells": [
  {
   "cell_type": "markdown",
   "metadata": {},
   "source": [
    "# Creazione matrici png"
   ]
  },
  {
   "cell_type": "code",
   "execution_count": 11,
   "metadata": {},
   "outputs": [
    {
     "ename": "FileExistsError",
     "evalue": "[WinError 183] Impossibile creare un file, se il file esiste già: './matrici/'",
     "output_type": "error",
     "traceback": [
      "\u001b[1;31m---------------------------------------------------------------------------\u001b[0m",
      "\u001b[1;31mFileExistsError\u001b[0m                           Traceback (most recent call last)",
      "\u001b[1;32m<ipython-input-11-8199d14f43dc>\u001b[0m in \u001b[0;36m<module>\u001b[1;34m\u001b[0m\n\u001b[0;32m     11\u001b[0m \u001b[0mN_SAMPLES\u001b[0m \u001b[1;33m=\u001b[0m \u001b[1;36m5000\u001b[0m\u001b[1;33m\u001b[0m\u001b[1;33m\u001b[0m\u001b[0m\n\u001b[0;32m     12\u001b[0m \u001b[1;33m\u001b[0m\u001b[0m\n\u001b[1;32m---> 13\u001b[1;33m \u001b[0mos\u001b[0m\u001b[1;33m.\u001b[0m\u001b[0mmakedirs\u001b[0m\u001b[1;33m(\u001b[0m\u001b[1;34m\"./matrici/\"\u001b[0m\u001b[1;33m)\u001b[0m\u001b[1;33m\u001b[0m\u001b[1;33m\u001b[0m\u001b[0m\n\u001b[0m\u001b[0;32m     14\u001b[0m \u001b[0mos\u001b[0m\u001b[1;33m.\u001b[0m\u001b[0mmakedirs\u001b[0m\u001b[1;33m(\u001b[0m\u001b[1;34m\"./matrici/originale/\"\u001b[0m\u001b[1;33m)\u001b[0m\u001b[1;33m\u001b[0m\u001b[1;33m\u001b[0m\u001b[0m\n\u001b[0;32m     15\u001b[0m \u001b[0mos\u001b[0m\u001b[1;33m.\u001b[0m\u001b[0mmakedirs\u001b[0m\u001b[1;33m(\u001b[0m\u001b[1;34m\"./captcha/completi/\"\u001b[0m\u001b[1;33m)\u001b[0m\u001b[1;33m\u001b[0m\u001b[1;33m\u001b[0m\u001b[0m\n",
      "\u001b[1;32m~\\Anaconda3\\lib\\os.py\u001b[0m in \u001b[0;36mmakedirs\u001b[1;34m(name, mode, exist_ok)\u001b[0m\n\u001b[0;32m    219\u001b[0m             \u001b[1;32mreturn\u001b[0m\u001b[1;33m\u001b[0m\u001b[1;33m\u001b[0m\u001b[0m\n\u001b[0;32m    220\u001b[0m     \u001b[1;32mtry\u001b[0m\u001b[1;33m:\u001b[0m\u001b[1;33m\u001b[0m\u001b[1;33m\u001b[0m\u001b[0m\n\u001b[1;32m--> 221\u001b[1;33m         \u001b[0mmkdir\u001b[0m\u001b[1;33m(\u001b[0m\u001b[0mname\u001b[0m\u001b[1;33m,\u001b[0m \u001b[0mmode\u001b[0m\u001b[1;33m)\u001b[0m\u001b[1;33m\u001b[0m\u001b[1;33m\u001b[0m\u001b[0m\n\u001b[0m\u001b[0;32m    222\u001b[0m     \u001b[1;32mexcept\u001b[0m \u001b[0mOSError\u001b[0m\u001b[1;33m:\u001b[0m\u001b[1;33m\u001b[0m\u001b[1;33m\u001b[0m\u001b[0m\n\u001b[0;32m    223\u001b[0m         \u001b[1;31m# Cannot rely on checking for EEXIST, since the operating system\u001b[0m\u001b[1;33m\u001b[0m\u001b[1;33m\u001b[0m\u001b[1;33m\u001b[0m\u001b[0m\n",
      "\u001b[1;31mFileExistsError\u001b[0m: [WinError 183] Impossibile creare un file, se il file esiste già: './matrici/'"
     ]
    }
   ],
   "source": [
    "import PIL\n",
    "from PIL import ImageFont\n",
    "from PIL import Image\n",
    "from PIL import ImageDraw\n",
    "import random,string\n",
    "import os, sys, time\n",
    "\n",
    "# font = ImageFont.truetype(\"Arial-Bold.ttf\",14)\n",
    "font = ImageFont.truetype(\"arial.ttf\", 100)\n",
    "\n",
    "N_SAMPLES = 5000\n",
    "\n",
    "os.makedirs(\"./matrici/\")\n",
    "os.makedirs(\"./matrici/originale/\")\n",
    "os.makedirs(\"./captcha/completi/\")\n",
    "os.makedirs(\"./captcha/singoli/\")"
   ]
  },
  {
   "cell_type": "code",
   "execution_count": 2,
   "metadata": {},
   "outputs": [],
   "source": [
    "size = 200\n",
    "def crea(lettera):\n",
    "    img=Image.new(\"1\", (size,size),color=1)\n",
    "    draw = ImageDraw.Draw(img)\n",
    "    draw.text((50, 50),lettera,fill=0,font=font)\n",
    "    draw = ImageDraw.Draw(img)\n",
    "    #noisy(img,size)\n",
    "    img.save(f\"./matrici/originale/{lettera}.png\")\n",
    "    \n"
   ]
  },
  {
   "cell_type": "code",
   "execution_count": 3,
   "metadata": {},
   "outputs": [],
   "source": [
    "def noisy(img,width,height):\n",
    "    draw = ImageDraw.Draw(img)\n",
    "    for x in range(0,15):\n",
    "        draw.point((random.randint(0,width),random.randint(0,height)),0)\n",
    "        draw.line([(random.randint(0,width),random.randint(0,height)), (random.randint(0,width),random.randint(0,height))],width=3)\n",
    "\n",
    "    return img"
   ]
  },
  {
   "cell_type": "markdown",
   "metadata": {},
   "source": [
    "# Funzione di noise per i campioni"
   ]
  },
  {
   "cell_type": "code",
   "execution_count": 4,
   "metadata": {},
   "outputs": [],
   "source": [
    "#creazione matrici\n",
    "alfabeto = list(string.ascii_uppercase) #or list(map(chr, range(ord('a'), ord('z')+1)))\n",
    "\n",
    "#alfabeto = [\"A\",\"B\",\"C\",\"D\",\"E\"]\n",
    "for l in alfabeto:\n",
    "    crea(l)"
   ]
  },
  {
   "cell_type": "code",
   "execution_count": 5,
   "metadata": {},
   "outputs": [
    {
     "name": "stdout",
     "output_type": "stream",
     "text": [
      "Initialised with 26 image(s) found.\n",
      "Output directory set to ./matrici/originale/output."
     ]
    }
   ],
   "source": [
    "import Augmentor\n",
    "p = Augmentor.Pipeline(\"./matrici/originale/\")"
   ]
  },
  {
   "cell_type": "code",
   "execution_count": 6,
   "metadata": {},
   "outputs": [],
   "source": [
    "p.rotate(probability=0.7, max_left_rotation=10, max_right_rotation=10)\n",
    "\n",
    "p.random_distortion(probability=1, grid_width=5, grid_height=5, magnitude=8)\n",
    "\n",
    "p.skew(probability=1)"
   ]
  },
  {
   "cell_type": "code",
   "execution_count": 7,
   "metadata": {},
   "outputs": [
    {
     "name": "stderr",
     "output_type": "stream",
     "text": [
      "Processing <PIL.Image.Image image mode=1 size=200x200 at 0x24BD6DDF6D8>: 100%|█| 2360/2360 [00:10<00:00, 235.32 Samples/s]\n"
     ]
    }
   ],
   "source": [
    "p.sample(2360)"
   ]
  },
  {
   "cell_type": "markdown",
   "metadata": {},
   "source": [
    "# Funzione di add noise per i campioni"
   ]
  },
  {
   "cell_type": "code",
   "execution_count": 8,
   "metadata": {},
   "outputs": [],
   "source": [
    "def sporca(path):\n",
    "    #t1=round(time.time() * 1000)\n",
    "\n",
    "    dirs = os.listdir( path )\n",
    "\n",
    "    for item in dirs:\n",
    "        if os.path.isfile(path+item):\n",
    "            im = Image.open(path+item)\n",
    "            f, e = os.path.splitext(path+item)\n",
    "            im = noisy(im,width=1000,height=200)\n",
    "            im.save(f\"{f}.png\")\n",
    "    #t2=round(time.time() * 1000)\n",
    "   # print(f\"{t2-t1} millisecondi\") #5ms a immagine"
   ]
  },
  {
   "cell_type": "markdown",
   "metadata": {},
   "source": [
    "# generazione di captcha random"
   ]
  },
  {
   "cell_type": "code",
   "execution_count": 21,
   "metadata": {},
   "outputs": [],
   "source": [
    "path = \"./matrici/originale/output/\"\n",
    "dirs = os.listdir( path )\n",
    "\n",
    "total_width = 1000\n",
    "max_height = 200\n",
    "for v in range (0,N_SAMPLES):\n",
    "    new_im = Image.new(\"1\", (total_width, max_height))\n",
    "    filename = \"\"\n",
    "    x_offset = 0\n",
    "    list_images = []\n",
    "    for i in range (0,5): #5 elementi\n",
    "        curr_rand=random.randint(0,len(dirs)-1)\n",
    "        list_images.append(path+dirs[curr_rand])\n",
    "        valore = dirs[curr_rand]\n",
    "        filename+=valore[19]\n",
    "\n",
    "    for im in list_images:\n",
    "        image_cur = Image.open(im)\n",
    "        new_im.paste(image_cur, (x_offset,0))\n",
    "        x_offset += image_cur.size[0]\n",
    "\n",
    "    new_im.save(f'./captcha/completi/{filename}{v}.png') # es stringa AEDTG45.png"
   ]
  },
  {
   "cell_type": "code",
   "execution_count": 22,
   "metadata": {},
   "outputs": [],
   "source": [
    "#aggiunge il noise ai captcha\n",
    "sporca(\"./captcha/completi/\")"
   ]
  },
  {
   "cell_type": "code",
   "execution_count": 23,
   "metadata": {},
   "outputs": [],
   "source": [
    "\n",
    "path = \"./captcha/completi/\"\n",
    "dirs = os.listdir( path )\n",
    "\n",
    "for item in dirs:\n",
    "\n",
    "    if os.path.isfile(path+item):\n",
    "        for i in range(0,5):\n",
    "            im = Image.open(path+item)\n",
    "            #crop ogni 200px 5 volte\n",
    "            #0,0 200,200 - 200,0 400,200 - 400,0 600, 200\n",
    "            current_box = im.crop((200*i,0,200*(i+1),200))\n",
    "\n",
    "            #legge la lettera corrispondente\n",
    "            if not os.path.exists(\"./captcha/singoli/\"+item[i]):\n",
    "                os.makedirs(\"./captcha/singoli/\"+item[i])\n",
    "            #salva nella cartella corrispondente\n",
    "            current_box.save(f\"./captcha/singoli/{item[i]}/{i}{time.time()}.png\")\n",
    "            \n"
   ]
  },
  {
   "cell_type": "code",
   "execution_count": null,
   "metadata": {},
   "outputs": [],
   "source": []
  }
 ],
 "metadata": {
  "kernelspec": {
   "display_name": "Python 3",
   "language": "python",
   "name": "python3"
  }
 },
 "nbformat": 4,
 "nbformat_minor": 2
}
