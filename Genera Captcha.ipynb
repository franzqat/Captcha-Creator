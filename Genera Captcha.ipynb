{
 "cells": [
  {
   "cell_type": "markdown",
   "metadata": {},
   "source": [
    "# Creazione matrici png"
   ]
  },
  {
   "cell_type": "code",
   "execution_count": 2,
   "metadata": {},
   "outputs": [],
   "source": [
    "import PIL\n",
    "from PIL import ImageFont\n",
    "from PIL import Image\n",
    "from PIL import ImageDraw\n",
    "import random,string\n",
    "import os, sys, time\n",
    "\n",
    "# font = ImageFont.truetype(\"Arial-Bold.ttf\",14)\n",
    "font = ImageFont.truetype(\"arial.ttf\", 100)\n",
    "\n",
    "N_SAMPLES = 5000 #numero captcha completi\n",
    "N_SMP_LETTERE_DEFORMATE =  26000\n",
    "if not os.path.exists(\"./matrici/\"):\n",
    "    os.makedirs(\"./matrici/\")\n",
    "if not os.path.exists(\"./matrici/originale/\"):\n",
    "    os.makedirs(\"./matrici/originale/\")\n",
    "if not os.path.exists(\"./captcha/completi/\"):\n",
    "    os.makedirs(\"./captcha/completi/\")\n",
    "if not os.path.exists(\"./captcha/singoli/\"):\n",
    "    os.makedirs(\"./captcha/singoli/\")"
   ]
  },
  {
   "cell_type": "code",
   "execution_count": 3,
   "metadata": {},
   "outputs": [],
   "source": [
    "size = 200\n",
    "def crea(lettera):\n",
    "    img=Image.new(\"1\", (size,size),color=1)\n",
    "    draw = ImageDraw.Draw(img)\n",
    "    draw.text((50, 50),lettera,fill=0,font=font)\n",
    "    draw = ImageDraw.Draw(img)\n",
    "    #noisy(img,size)\n",
    "    img.save(f\"./matrici/originale/{lettera}.png\")\n",
    "    \n"
   ]
  },
  {
   "cell_type": "code",
   "execution_count": 4,
   "metadata": {},
   "outputs": [],
   "source": [
    "def noisy(img,width,height):\n",
    "    draw = ImageDraw.Draw(img)\n",
    "    for x in range(0,15):\n",
    "        draw.point((random.randint(0,width),random.randint(0,height)),0)\n",
    "        draw.line([(random.randint(0,width),random.randint(0,height)), (random.randint(0,width),random.randint(0,height))],width=3)\n",
    "\n",
    "    return img"
   ]
  },
  {
   "cell_type": "markdown",
   "metadata": {},
   "source": [
    "# Funzione di noise per i campioni"
   ]
  },
  {
   "cell_type": "code",
   "execution_count": 5,
   "metadata": {},
   "outputs": [],
   "source": [
    "#creazione matrici\n",
    "alfabeto = list(string.ascii_uppercase) #or list(map(chr, range(ord('a'), ord('z')+1)))\n",
    "\n",
    "#alfabeto = [\"A\",\"B\",\"C\",\"D\",\"E\"]\n",
    "for l in alfabeto:\n",
    "    crea(l)"
   ]
  },
  {
   "cell_type": "code",
   "execution_count": 6,
   "metadata": {},
   "outputs": [
    {
     "name": "stdout",
     "output_type": "stream",
     "text": [
      "Initialised with 26 image(s) found.\n",
      "Output directory set to ./matrici/originale/output."
     ]
    }
   ],
   "source": [
    "import Augmentor\n",
    "p = Augmentor.Pipeline(\"./matrici/originale/\")"
   ]
  },
  {
   "cell_type": "code",
   "execution_count": 7,
   "metadata": {},
   "outputs": [],
   "source": [
    "p.rotate(probability=0.7, max_left_rotation=10, max_right_rotation=10)\n",
    "\n",
    "p.random_distortion(probability=1, grid_width=5, grid_height=5, magnitude=8)\n",
    "\n",
    "p.skew(probability=1)"
   ]
  },
  {
   "cell_type": "code",
   "execution_count": null,
   "metadata": {},
   "outputs": [
    {
     "name": "stderr",
     "output_type": "stream",
     "text": [
      "Processing <PIL.Image.Image image mode=1 size=200x200 at 0x82FD0F0>:   6%| | 1684/26000 [01:26<11:57, 33.89 Samples/s]  "
     ]
    }
   ],
   "source": [
    "p.sample(N_SMP_LETTERE_DEFORMATE)"
   ]
  },
  {
   "cell_type": "markdown",
   "metadata": {},
   "source": [
    "# Funzione di add noise per i campioni"
   ]
  },
  {
   "cell_type": "code",
   "execution_count": null,
   "metadata": {},
   "outputs": [],
   "source": [
    "def sporca(path):\n",
    "    #t1=round(time.time() * 1000)\n",
    "\n",
    "    dirs = os.listdir( path )\n",
    "\n",
    "    for item in dirs:\n",
    "        if os.path.isfile(path+item):\n",
    "            im = Image.open(path+item)\n",
    "            f, e = os.path.splitext(path+item)\n",
    "            im = noisy(im,width=1000,height=200)\n",
    "            im.save(f\"{f}.png\")\n",
    "    #t2=round(time.time() * 1000)\n",
    "   # print(f\"{t2-t1} millisecondi\") #5ms a immagine"
   ]
  },
  {
   "cell_type": "code",
   "execution_count": null,
   "metadata": {},
   "outputs": [],
   "source": [
    "import string\n",
    "def getfirstUppercase(s):\n",
    "    return ([char for char in s if char.isupper()])[0]"
   ]
  },
  {
   "cell_type": "markdown",
   "metadata": {},
   "source": [
    "# generazione di captcha random"
   ]
  },
  {
   "cell_type": "code",
   "execution_count": null,
   "metadata": {},
   "outputs": [],
   "source": [
    "path = \"./matrici/originale/output/\"\n",
    "dirs = os.listdir( path )\n",
    "\n",
    "total_width = 1000\n",
    "max_height = 200\n",
    "for v in range (0,N_SAMPLES):\n",
    "    new_im = Image.new(\"1\", (total_width, max_height))\n",
    "    filename = \"\"\n",
    "    x_offset = 0\n",
    "    list_images = []\n",
    "    for i in range (0,5): #5 elementi\n",
    "        curr_rand=random.randint(0,len(dirs)-1)\n",
    "        list_images.append(path+dirs[curr_rand])\n",
    "        valore = dirs[curr_rand]\n",
    "        filename+=getfirstUppercase(valore)\n",
    "\n",
    "    for im in list_images:\n",
    "        image_cur = Image.open(im)\n",
    "        new_im.paste(image_cur, (x_offset,0))\n",
    "        x_offset += image_cur.size[0]\n",
    "\n",
    "    new_im.save(f'./captcha/completi/{filename}{v}.png') # es stringa AEDTG45.png"
   ]
  },
  {
   "cell_type": "code",
   "execution_count": null,
   "metadata": {},
   "outputs": [],
   "source": [
    "#aggiunge il noise ai captcha\n",
    "sporca(\"./captcha/completi/\")"
   ]
  },
  {
   "cell_type": "code",
   "execution_count": null,
   "metadata": {},
   "outputs": [],
   "source": [
    "path = \"./captcha/completi/\"\n",
    "dirs = os.listdir( path )\n",
    "\n",
    "for item in dirs:\n",
    "\n",
    "    if os.path.isfile(path+item):\n",
    "        for i in range(0,5):\n",
    "            im = Image.open(path+item)\n",
    "            #crop ogni 200px 5 volte\n",
    "            #0,0 200,200 - 200,0 400,200 - 400,0 600, 200\n",
    "            current_box = im.crop((200*i,0,200*(i+1),200))\n",
    "\n",
    "            #legge la lettera corrispondente\n",
    "            if not os.path.exists(\"./captcha/singoli/\"+item[i]):\n",
    "                os.makedirs(\"./captcha/singoli/\"+item[i])\n",
    "            #salva nella cartella corrispondente\n",
    "            current_box.save(f\"./captcha/singoli/{item[i]}/{i}{time.time()}.png\")\n",
    "            \n"
   ]
  },
  {
   "cell_type": "code",
   "execution_count": null,
   "metadata": {},
   "outputs": [],
   "source": []
  }
 ],
 "metadata": {
  "kernelspec": {
   "display_name": "Python 3",
   "language": "python",
   "name": "python3"
  },
  "language_info": {
   "codemirror_mode": {
    "name": "ipython",
    "version": 3
   },
   "file_extension": ".py",
   "mimetype": "text/x-python",
   "name": "python",
   "nbconvert_exporter": "python",
   "pygments_lexer": "ipython3",
   "version": "3.7.3"
  }
 },
 "nbformat": 4,
 "nbformat_minor": 2
}
