{
 "cells": [
  {
   "cell_type": "markdown",
   "metadata": {},
   "source": [
    "Il numero di campioni nelle varie cartelle viene uniformato con il numero di campioni del meno frequente"
   ]
  },
  {
   "cell_type": "code",
   "execution_count": 1,
   "metadata": {},
   "outputs": [],
   "source": [
    "import os, os.path"
   ]
  },
  {
   "cell_type": "code",
   "execution_count": 4,
   "metadata": {},
   "outputs": [
    {
     "name": "stdout",
     "output_type": "stream",
     "text": [
      "[2800, 2811, 2757, 2833, 2769, 2888, 2827, 2822, 2831, 2758, 2861, 2812, 2861, 2857, 2732, 2822, 2731, 2766, 2867, 2827, 2836, 2773, 2786, 2894, 2750, 2869, 2800, 2800, 2757, 2757, 2757, 2757, 2757, 2757, 2757, 2757, 2757, 2757, 2757, 2757, 2732, 2732, 2731, 2731, 2731, 2731, 2731, 2731, 2731, 2731, 2731, 2731, 2800, 2800, 2757, 2757, 2757, 2757, 2757, 2757, 2757, 2757, 2757, 2757, 2757, 2757, 2732, 2732, 2731, 2731, 2731, 2731, 2731, 2731, 2731, 2731, 2731, 2731] 2731\n"
     ]
    }
   ],
   "source": [
    "#List number of elements per folder\n",
    "for item in dirs:\n",
    "    folder = ([(f) for f in os.listdir(path+item) if os.path.isfile(os.path.join(path,item,f))])\n",
    "    old_lenght = len(folder)\n",
    "    smp_num.append((len([f for f in os.listdir(path+item) if os.path.isfile(os.path.join(path,item,f))])))\n",
    "    print(item, old_lenght)\n",
    "\n",
    "minimum = min(smp_num)\n",
    "print(minimum)"
   ]
  },
  {
   "cell_type": "code",
   "execution_count": 5,
   "metadata": {},
   "outputs": [
    {
     "name": "stdout",
     "output_type": "stream",
     "text": [
      "A 2800 -> 2731\n",
      "B 2800 -> 2731\n",
      "C 2757 -> 2731\n",
      "D 2757 -> 2731\n",
      "E 2757 -> 2731\n",
      "F 2757 -> 2731\n",
      "G 2757 -> 2731\n",
      "H 2757 -> 2731\n",
      "I 2757 -> 2731\n",
      "J 2757 -> 2731\n",
      "K 2757 -> 2731\n",
      "L 2757 -> 2731\n",
      "M 2757 -> 2731\n",
      "N 2757 -> 2731\n",
      "O 2732 -> 2731\n",
      "P 2732 -> 2731\n",
      "Q 2731 -> 2731\n",
      "R 2731 -> 2731\n",
      "S 2731 -> 2731\n",
      "T 2731 -> 2731\n",
      "U 2731 -> 2731\n",
      "V 2731 -> 2731\n",
      "W 2731 -> 2731\n",
      "X 2731 -> 2731\n",
      "Y 2731 -> 2731\n",
      "Z 2731 -> 2731\n"
     ]
    }
   ],
   "source": [
    "#funziona\n",
    "#stampa il numero di elementi nelle cartelle\n",
    "path = \"./captcha/singoli/\"\n",
    "dirs = os.listdir( path )\n",
    "smp_num=[]\n",
    "#List number of elements per folder\n",
    "for item in dirs:\n",
    "    folder = ([(f) for f in os.listdir(path+item) if os.path.isfile(os.path.join(path,item,f))])\n",
    "    old_lenght = len(folder)\n",
    "    \n",
    "    smp_num.append((len([f for f in os.listdir(path+item) if os.path.isfile(os.path.join(path,item,f))])))\n",
    "    \n",
    "    #per ogni folder, rimuovi len(folder) - min(smp_num) elementi\n",
    "    times = (len(folder)-minimum)\n",
    "    for i in range(0,times):\n",
    "        os.remove(os.path.join(path, item ,folder[i]))\n",
    "        folder.pop(i)\n",
    "    \n",
    "    new_lenght = len(folder)\n",
    "    print(item,old_lenght, \"->\", new_lenght)\n",
    "    "
   ]
  },
  {
   "cell_type": "code",
   "execution_count": null,
   "metadata": {},
   "outputs": [],
   "source": [
    "\"\"\"path = \"./captcha/singoli/\"\n",
    "dirs = os.listdir( path )\n",
    "\n",
    "for item in dirs:\n",
    "    folder = [(f) for f in os.listdir(path+item) if os.path.isfile(os.path.join(path,item,f))]\n",
    "    #per ogni folder, rimuovi len(folder) - min(smp_num) elementi\n",
    "    #print(len(folder)-min(smp_num))\n",
    "    #[folder.pop(-1) for f in folder if (len(folder) > min(smp_num))] \n",
    "    print(item,len(folder))\n",
    "    \n",
    "    times = (len(folder)-min(smp_num))\n",
    "    for i in range(0,times):\n",
    "        os.remove(os.path.join(path, item ,folder[i]))\n",
    "    \"\"\"\n",
    "\n"
   ]
  },
  {
   "cell_type": "code",
   "execution_count": null,
   "metadata": {},
   "outputs": [],
   "source": [
    "\"\"\"for item in dirs:\n",
    "    lenght = len([(f) for f in os.listdir(path+item) if os.path.isfile(os.path.join(path,item,f))])\n",
    "    print(item,lenght)\"\"\""
   ]
  },
  {
   "cell_type": "code",
   "execution_count": 6,
   "metadata": {},
   "outputs": [],
   "source": [
    "#Split library\n",
    "import split_folders"
   ]
  },
  {
   "cell_type": "code",
   "execution_count": 8,
   "metadata": {},
   "outputs": [],
   "source": [
    "input_folder = path\n",
    "# Split with a ratio.\n",
    "# To only split into training and validation set, set a tuple to `ratio`, i.e, `(.8, .2)`.\n",
    "split_folders.ratio(input_folder, output=\"output\", ratio=(.6, .2, .2)) # default values"
   ]
  },
  {
   "cell_type": "code",
   "execution_count": null,
   "metadata": {},
   "outputs": [],
   "source": []
  }
 ],
 "metadata": {
  "kernelspec": {
   "display_name": "Python 3",
   "language": "python",
   "name": "python3"
  },
  "language_info": {
   "codemirror_mode": {
    "name": "ipython",
    "version": 3
   },
   "file_extension": ".py",
   "mimetype": "text/x-python",
   "name": "python",
   "nbconvert_exporter": "python",
   "pygments_lexer": "ipython3",
   "version": "3.7.3"
  }
 },
 "nbformat": 4,
 "nbformat_minor": 2
}
