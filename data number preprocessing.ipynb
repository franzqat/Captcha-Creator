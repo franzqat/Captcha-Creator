{
 "cells": [
  {
   "cell_type": "markdown",
   "metadata": {},
   "source": [
    "Il numero di campioni nelle varie cartelle viene uniformato con il numero di campioni del meno frequente"
   ]
  },
  {
   "cell_type": "code",
   "execution_count": 12,
   "metadata": {},
   "outputs": [],
   "source": [
    "import os, os.path\n",
    "\n",
    "#[f for f in dirs if os.path.exists(os.path.join(path,f))]\n"
   ]
  },
  {
   "cell_type": "code",
   "execution_count": 13,
   "metadata": {},
   "outputs": [
    {
     "name": "stdout",
     "output_type": "stream",
     "text": [
      "A 1004\n",
      "B 967\n",
      "C 949\n",
      "D 984\n",
      "E 918\n",
      "F 1045\n",
      "G 943\n",
      "H 954\n",
      "I 953\n",
      "J 893\n",
      "K 999\n",
      "L 962\n",
      "M 910\n",
      "N 1010\n",
      "O 914\n",
      "P 943\n",
      "Q 908\n",
      "R 975\n",
      "S 980\n",
      "T 926\n",
      "U 890\n",
      "V 1043\n",
      "W 1022\n",
      "X 997\n",
      "Y 957\n",
      "Z 954\n"
     ]
    }
   ],
   "source": [
    "#funziona\n",
    "#stampa il numero di elementi nelle cartelle\n",
    "path = \"./captcha/singoli/\"\n",
    "dirs = os.listdir( path )\n",
    "#List number of elements per folder\n",
    "for item in dirs:\n",
    "    lenght = len([(f) for f in os.listdir(path+item) if os.path.isfile(os.path.join(path,item,f))])\n",
    "    print(item,lenght)\n",
    "    \n",
    "\n"
   ]
  },
  {
   "cell_type": "code",
   "execution_count": 14,
   "metadata": {},
   "outputs": [],
   "source": [
    "path = \"./captcha/singoli/\"\n",
    "dirs = os.listdir( path )\n",
    "smp_num=[]\n",
    "for item in dirs:\n",
    "       smp_num.append((len([f for f in os.listdir(path+item) if os.path.isfile(os.path.join(path,item,f))])))\n",
    "        "
   ]
  },
  {
   "cell_type": "code",
   "execution_count": 15,
   "metadata": {},
   "outputs": [
    {
     "name": "stdout",
     "output_type": "stream",
     "text": [
      "A 1004\n",
      "B 967\n",
      "C 949\n",
      "D 984\n",
      "E 918\n",
      "F 1045\n",
      "G 943\n",
      "H 954\n",
      "I 953\n",
      "J 893\n",
      "K 999\n",
      "L 962\n",
      "M 910\n",
      "N 1010\n",
      "O 914\n",
      "P 943\n",
      "Q 908\n",
      "R 975\n",
      "S 980\n",
      "T 926\n",
      "U 890\n",
      "V 1043\n",
      "W 1022\n",
      "X 997\n",
      "Y 957\n",
      "Z 954\n"
     ]
    }
   ],
   "source": [
    "path = \"./captcha/singoli/\"\n",
    "dirs = os.listdir( path )\n",
    "\n",
    "for item in dirs:\n",
    "    folder = [(f) for f in os.listdir(path+item) if os.path.isfile(os.path.join(path,item,f))]\n",
    "    #per ogni folder, rimuovi len(folder) - min(smp_num) elementi\n",
    "    #print(len(folder)-min(smp_num))\n",
    "    #[folder.pop(-1) for f in folder if (len(folder) > min(smp_num))] \n",
    "    print(item,len(folder))\n",
    "    \n",
    "    times = (len(folder)-min(smp_num))\n",
    "    for i in range(0,times):\n",
    "        os.remove(os.path.join(path, item ,folder[i]))\n",
    "    \n",
    "\n"
   ]
  },
  {
   "cell_type": "code",
   "execution_count": 16,
   "metadata": {},
   "outputs": [
    {
     "name": "stdout",
     "output_type": "stream",
     "text": [
      "A 890\n",
      "B 890\n",
      "C 890\n",
      "D 890\n",
      "E 890\n",
      "F 890\n",
      "G 890\n",
      "H 890\n",
      "I 890\n",
      "J 890\n",
      "K 890\n",
      "L 890\n",
      "M 890\n",
      "N 890\n",
      "O 890\n",
      "P 890\n",
      "Q 890\n",
      "R 890\n",
      "S 890\n",
      "T 890\n",
      "U 890\n",
      "V 890\n",
      "W 890\n",
      "X 890\n",
      "Y 890\n",
      "Z 890\n"
     ]
    }
   ],
   "source": [
    "for item in dirs:\n",
    "    lenght = len([(f) for f in os.listdir(path+item) if os.path.isfile(os.path.join(path,item,f))])\n",
    "    print(item,lenght)"
   ]
  },
  {
   "cell_type": "code",
   "execution_count": 18,
   "metadata": {},
   "outputs": [],
   "source": [
    "import split_folders"
   ]
  },
  {
   "cell_type": "code",
   "execution_count": 21,
   "metadata": {},
   "outputs": [],
   "source": [
    "input_folder = path\n",
    "# Split with a ratio.\n",
    "# To only split into training and validation set, set a tuple to `ratio`, i.e, `(.8, .2)`.\n",
    "split_folders.ratio(input_folder, output=\"output\", ratio=(.6, .2, .2)) # default values"
   ]
  },
  {
   "cell_type": "code",
   "execution_count": null,
   "metadata": {},
   "outputs": [],
   "source": []
  }
 ],
 "metadata": {
  "kernelspec": {
   "display_name": "Python 3",
   "language": "python",
   "name": "python3"
  },
  "language_info": {
   "codemirror_mode": {
    "name": "ipython",
    "version": 3
   },
   "file_extension": ".py",
   "mimetype": "text/x-python",
   "name": "python",
   "nbconvert_exporter": "python",
   "pygments_lexer": "ipython3",
   "version": "3.7.3"
  }
 },
 "nbformat": 4,
 "nbformat_minor": 2
}
