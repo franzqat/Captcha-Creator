{
 "cells": [
  {
   "cell_type": "markdown",
   "metadata": {},
   "source": [
    "Il numero di campioni nelle varie cartelle viene uniformato con il numero di campioni del meno frequente"
   ]
  },
  {
   "cell_type": "code",
   "execution_count": 188,
   "metadata": {},
   "outputs": [],
   "source": [
    "import os, os.path\n",
    "\n",
    "#[f for f in dirs if os.path.exists(os.path.join(path,f))]\n"
   ]
  },
  {
   "cell_type": "code",
   "execution_count": 190,
   "metadata": {},
   "outputs": [
    {
     "name": "stdout",
     "output_type": "stream",
     "text": [
      "A 153\n",
      "B 153\n",
      "C 153\n",
      "D 153\n",
      "E 153\n",
      "F 153\n",
      "G 153\n",
      "H 153\n",
      "I 153\n",
      "J 153\n",
      "K 153\n",
      "L 153\n",
      "M 153\n",
      "N 153\n",
      "O 153\n",
      "P 153\n",
      "Q 153\n",
      "R 153\n",
      "S 153\n",
      "T 153\n",
      "U 153\n",
      "V 153\n",
      "W 153\n",
      "X 153\n",
      "Y 153\n",
      "Z 153\n"
     ]
    }
   ],
   "source": [
    "#funziona\n",
    "#stampa il numero di elementi nelle cartelle\n",
    "path = \"./captcha/singoli/\"\n",
    "dirs = os.listdir( path )\n",
    "#List number of elements per folder\n",
    "for item in dirs:\n",
    "    lenght = len([(f) for f in os.listdir(path+item) if os.path.isfile(os.path.join(path,item,f))])\n",
    "    print(item,lenght)\n",
    "    \n",
    "\n"
   ]
  },
  {
   "cell_type": "code",
   "execution_count": 162,
   "metadata": {},
   "outputs": [],
   "source": [
    "path = \"./captcha/singoli/\"\n",
    "dirs = os.listdir( path )\n",
    "smp_num=[]\n",
    "for item in dirs:\n",
    "       smp_num.append((len([f for f in os.listdir(path+item) if os.path.isfile(os.path.join(path,item,f))])))\n",
    "        "
   ]
  },
  {
   "cell_type": "code",
   "execution_count": 181,
   "metadata": {},
   "outputs": [
    {
     "name": "stdout",
     "output_type": "stream",
     "text": [
      "A 153\n",
      "B 153\n",
      "C 153\n",
      "D 153\n",
      "E 153\n",
      "F 153\n",
      "G 153\n",
      "H 153\n",
      "I 153\n",
      "J 153\n",
      "K 153\n",
      "L 153\n",
      "M 153\n",
      "N 153\n",
      "O 153\n",
      "P 153\n",
      "Q 153\n",
      "R 153\n",
      "S 153\n",
      "T 153\n",
      "U 153\n",
      "V 153\n",
      "W 153\n",
      "X 153\n",
      "Y 153\n",
      "Z 153\n"
     ]
    }
   ],
   "source": [
    "path = \"./captcha/singoli/\"\n",
    "dirs = os.listdir( path )\n",
    "\n",
    "for item in dirs:\n",
    "    folder = [(f) for f in os.listdir(path+item) if os.path.isfile(os.path.join(path,item,f))]\n",
    "    #per ogni folder, rimuovi len(folder) - min(smp_num) elementi\n",
    "    #print(len(folder)-min(smp_num))\n",
    "    #[folder.pop(-1) for f in folder if (len(folder) > min(smp_num))] \n",
    "    print(item,len(folder))\n",
    "    \n",
    "    times = (len(folder)-min(smp_num))\n",
    "    for i in range(0,times):\n",
    "        os.remove(os.path.join(path, item ,folder[i]))\n",
    "    \n",
    "\n"
   ]
  },
  {
   "cell_type": "code",
   "execution_count": 191,
   "metadata": {},
   "outputs": [
    {
     "name": "stdout",
     "output_type": "stream",
     "text": [
      "A 153\n",
      "B 153\n",
      "C 153\n",
      "D 153\n",
      "E 153\n",
      "F 153\n",
      "G 153\n",
      "H 153\n",
      "I 153\n",
      "J 153\n",
      "K 153\n",
      "L 153\n",
      "M 153\n",
      "N 153\n",
      "O 153\n",
      "P 153\n",
      "Q 153\n",
      "R 153\n",
      "S 153\n",
      "T 153\n",
      "U 153\n",
      "V 153\n",
      "W 153\n",
      "X 153\n",
      "Y 153\n",
      "Z 153\n"
     ]
    }
   ],
   "source": [
    "for item in dirs:\n",
    "    lenght = len([(f) for f in os.listdir(path+item) if os.path.isfile(os.path.join(path,item,f))])\n",
    "    print(item,lenght)"
   ]
  },
  {
   "cell_type": "code",
   "execution_count": null,
   "metadata": {},
   "outputs": [],
   "source": []
  }
 ],
 "metadata": {
  "kernelspec": {
   "display_name": "Python 3",
   "language": "python",
   "name": "python3"
  },
  "language_info": {
   "codemirror_mode": {
    "name": "ipython",
    "version": 3
   },
   "file_extension": ".py",
   "mimetype": "text/x-python",
   "name": "python",
   "nbconvert_exporter": "python",
   "pygments_lexer": "ipython3",
   "version": "3.7.1"
  }
 },
 "nbformat": 4,
 "nbformat_minor": 2
}
