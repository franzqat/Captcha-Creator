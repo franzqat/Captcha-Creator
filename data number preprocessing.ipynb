{
 "cells": [
  {
   "cell_type": "markdown",
   "metadata": {},
   "source": [
    "Il numero di campioni nelle varie cartelle viene uniformato con il numero di campioni del meno frequente"
   ]
  },
  {
   "cell_type": "code",
   "execution_count": null,
   "metadata": {},
   "outputs": [],
   "source": [
    "import os, os.path"
   ]
  },
  {
   "cell_type": "code",
   "execution_count": null,
   "metadata": {},
   "outputs": [],
   "source": [
    "#funziona\n",
    "#stampa il numero di elementi nelle cartelle\n",
    "path = \"./captcha/singoli/\"\n",
    "dirs = os.listdir( path )\n",
    "smp_num=[]\n",
    "#List number of elements per folder\n",
    "for item in dirs:\n",
    "    folder = ([(f) for f in os.listdir(path+item) if os.path.isfile(os.path.join(path,item,f))])\n",
    "    old_lenght = len(folder)\n",
    "    \n",
    "    smp_num.append((len([f for f in os.listdir(path+item) if os.path.isfile(os.path.join(path,item,f))])))\n",
    "    \n",
    "    #per ogni folder, rimuovi len(folder) - min(smp_num) elementi\n",
    "    times = (len(folder)-min(smp_num))\n",
    "    for i in range(0,times):\n",
    "        os.remove(os.path.join(path, item ,folder[i]))\n",
    "        folder.pop(i)\n",
    "    \n",
    "    new_lenght = len(folder)\n",
    "    print(item,old_lenght, \"->\", new_lenght)\n",
    "    "
   ]
  },
  {
   "cell_type": "code",
   "execution_count": null,
   "metadata": {},
   "outputs": [],
   "source": [
    "\"\"\"path = \"./captcha/singoli/\"\n",
    "dirs = os.listdir( path )\n",
    "\n",
    "for item in dirs:\n",
    "    folder = [(f) for f in os.listdir(path+item) if os.path.isfile(os.path.join(path,item,f))]\n",
    "    #per ogni folder, rimuovi len(folder) - min(smp_num) elementi\n",
    "    #print(len(folder)-min(smp_num))\n",
    "    #[folder.pop(-1) for f in folder if (len(folder) > min(smp_num))] \n",
    "    print(item,len(folder))\n",
    "    \n",
    "    times = (len(folder)-min(smp_num))\n",
    "    for i in range(0,times):\n",
    "        os.remove(os.path.join(path, item ,folder[i]))\n",
    "    \"\"\"\n",
    "\n"
   ]
  },
  {
   "cell_type": "code",
   "execution_count": null,
   "metadata": {},
   "outputs": [],
   "source": [
    "\"\"\"for item in dirs:\n",
    "    lenght = len([(f) for f in os.listdir(path+item) if os.path.isfile(os.path.join(path,item,f))])\n",
    "    print(item,lenght)\"\"\""
   ]
  },
  {
   "cell_type": "code",
   "execution_count": null,
   "metadata": {},
   "outputs": [],
   "source": [
    "import split_folders"
   ]
  },
  {
   "cell_type": "code",
   "execution_count": null,
   "metadata": {},
   "outputs": [],
   "source": [
    "input_folder = path\n",
    "# Split with a ratio.\n",
    "# To only split into training and validation set, set a tuple to `ratio`, i.e, `(.8, .2)`.\n",
    "split_folders.ratio(input_folder, output=\"output\", ratio=(.6, .2, .2)) # default values"
   ]
  },
  {
   "cell_type": "code",
   "execution_count": null,
   "metadata": {},
   "outputs": [],
   "source": []
  }
 ],
 "metadata": {
  "kernelspec": {
   "display_name": "Python 3",
   "language": "python",
   "name": "python3"
  },
  "language_info": {
   "codemirror_mode": {
    "name": "ipython",
    "version": 3
   },
   "file_extension": ".py",
   "mimetype": "text/x-python",
   "name": "python",
   "nbconvert_exporter": "python",
   "pygments_lexer": "ipython3",
   "version": "3.7.3"
  }
 },
 "nbformat": 4,
 "nbformat_minor": 2
}
