{
 "cells": [
  {
   "cell_type": "markdown",
   "metadata": {},
   "source": [
    "# Creazione matrici png"
   ]
  },
  {
   "cell_type": "code",
   "execution_count": null,
   "metadata": {},
   "outputs": [],
   "source": [
    "import PIL\n",
    "from PIL import ImageFont\n",
    "from PIL import Image\n",
    "from PIL import ImageDraw\n",
    "\n",
    "import random,string\n",
    "import os, sys, time\n",
    "\n",
    "# font = ImageFont.truetype(\"Arial-Bold.ttf\",14)\n",
    "font = ImageFont.truetype(\"arial.ttf\", 100) #100 è la size\n",
    "\n",
    "N_SAMPLES = 10000 #numero captcha completi\n",
    "N_SMP_LETTERE_DEFORMATE =  26000\n",
    "\n"
   ]
  },
  {
   "cell_type": "code",
   "execution_count": null,
   "metadata": {},
   "outputs": [],
   "source": [
    "#creazione cartelle\n",
    "\n",
    "if not os.path.exists(\"./matrici/\"):\n",
    "    os.makedirs(\"./matrici/\")\n",
    "if not os.path.exists(\"./matrici/originale/\"):\n",
    "    os.makedirs(\"./matrici/originale/\")\n",
    "if not os.path.exists(\"./captcha/completi/\"):\n",
    "    os.makedirs(\"./captcha/completi/\")\n",
    "if not os.path.exists(\"./captcha/singoli/\"):\n",
    "    os.makedirs(\"./captcha/singoli/\")"
   ]
  },
  {
   "cell_type": "code",
   "execution_count": null,
   "metadata": {},
   "outputs": [],
   "source": [
    "size = 200 #px\n",
    "\n",
    "def creaMatrice(lettera):\n",
    "    img=Image.new(\"1\", (size,size),color=1)\n",
    "    draw = ImageDraw.Draw(img)\n",
    "    draw.text((50, 50),lettera,fill=0,font=font)\n",
    "    draw = ImageDraw.Draw(img)\n",
    "    #noisy(img,size)\n",
    "    img.save(f\"./matrici/originale/{lettera}.png\")\n",
    "    \n"
   ]
  },
  {
   "cell_type": "markdown",
   "metadata": {},
   "source": [
    "Funzione di add noise per i campioni"
   ]
  },
  {
   "cell_type": "code",
   "execution_count": null,
   "metadata": {},
   "outputs": [],
   "source": [
    "# Funzione di noise per i campioni\n",
    "def noisy(img,width,height):\n",
    "    draw = ImageDraw.Draw(img)\n",
    "    for x in range(0,15):\n",
    "        draw.point((random.randint(0,width),random.randint(0,height)),0)\n",
    "        draw.line([(random.randint(0,width),random.randint(0,height)), (random.randint(0,width),random.randint(0,height))],width=3)\n",
    "        #linee verticali\n",
    "        xy = (random.randint(0,width),random.randint(0,height))\n",
    "        xy_due = (random.randint(xy[0]-50,xy[0]+50) ,random.randint(0,height))\n",
    "        draw.line([xy,xy_due],width=3)\n",
    "    return img"
   ]
  },
  {
   "cell_type": "markdown",
   "metadata": {},
   "source": [
    "Creazione matrici"
   ]
  },
  {
   "cell_type": "code",
   "execution_count": null,
   "metadata": {},
   "outputs": [],
   "source": [
    "#creazione matrici\n",
    "alfabeto = list(string.ascii_uppercase) #or list(map(chr, range(ord('a'), ord('z')+1)))\n",
    "\n",
    "#alfabeto = [\"A\",\"B\",\"C\",\"D\",\"E\"]\n",
    "for l in alfabeto:\n",
    "    creaMatrice(l)"
   ]
  },
  {
   "cell_type": "code",
   "execution_count": null,
   "metadata": {},
   "outputs": [],
   "source": [
    "#immagine di esempio\n",
    "Image.open(os.path.join(\"./matrici/originale\",\"A.png\"))"
   ]
  },
  {
   "cell_type": "markdown",
   "metadata": {},
   "source": [
    "# Augmentor"
   ]
  },
  {
   "cell_type": "code",
   "execution_count": null,
   "metadata": {},
   "outputs": [],
   "source": [
    "import Augmentor\n",
    "p = Augmentor.Pipeline(\"./matrici/originale/\")"
   ]
  },
  {
   "cell_type": "code",
   "execution_count": null,
   "metadata": {},
   "outputs": [],
   "source": [
    "p.rotate(probability=0.7, max_left_rotation=10, max_right_rotation=10)\n",
    "\n",
    "p.random_distortion(probability=1, grid_width=5, grid_height=5, magnitude=8)\n",
    "\n",
    "p.skew(probability=1)"
   ]
  },
  {
   "cell_type": "code",
   "execution_count": null,
   "metadata": {},
   "outputs": [],
   "source": [
    "print(N_SMP_LETTERE_DEFORMATE)"
   ]
  },
  {
   "cell_type": "code",
   "execution_count": null,
   "metadata": {},
   "outputs": [],
   "source": [
    "p.sample(N_SMP_LETTERE_DEFORMATE)"
   ]
  },
  {
   "cell_type": "code",
   "execution_count": null,
   "metadata": {},
   "outputs": [],
   "source": [
    "#immagine di esempio deformata\n",
    "Image.open(os.path.join(\"./matrici/originale/output\",\"originale_original_A.png_0074a92e-09fd-4850-8249-bca7d04fc62d.png\")) "
   ]
  },
  {
   "cell_type": "markdown",
   "metadata": {},
   "source": [
    "# Generazione di captcha random"
   ]
  },
  {
   "cell_type": "code",
   "execution_count": null,
   "metadata": {},
   "outputs": [],
   "source": [
    "def getfirstUppercase(s):\n",
    "    return ([char for char in s if char.isupper()])[0]"
   ]
  },
  {
   "cell_type": "code",
   "execution_count": null,
   "metadata": {},
   "outputs": [],
   "source": [
    "path = \"./matrici/originale/output/\" #sono le matrici distorte, 200x200\n",
    "dirs = os.listdir( path ) #converte il contenuto della directory in una lista\n",
    "\n",
    "#intervallo random lunghezza captcha\n",
    "MAX_IMAGES=7\n",
    "MIN_IMAGES=5\n",
    "\n",
    "#altezza\n",
    "max_height = 200\n",
    "\n",
    "#generazione\n",
    "for v in range (0,N_SAMPLES):\n",
    "    num_images = random.randint(MIN_IMAGES,MAX_IMAGES) #lunghezza captcha in lettere\n",
    "    total_width = num_images*200 #lunghezza immagine in px\n",
    "    \n",
    "    new_im = Image.new(\"1\", (total_width, max_height))\n",
    "    filename = \"\"\n",
    "    x_offset = 0\n",
    "    list_images = []\n",
    "    for i in range (0,num_images): #num_images elementi\n",
    "        curr_rand=random.randint(0,len(dirs)-1)\n",
    "        list_images.append(os.path.join(path,dirs[curr_rand]))\n",
    "        valore = dirs[curr_rand] #nome file random\n",
    "        filename+=getfirstUppercase(valore) #si aggiunge al filename la lettera corripondente\n",
    "\n",
    "    for im in list_images:\n",
    "        image_cur = Image.open(im)\n",
    "        new_im.paste(image_cur, (x_offset,0))\n",
    "        x_offset += image_cur.size[0]\n",
    "    #sporca new_im\n",
    "    new_im = noisy(new_im,width=total_width,height=max_height)\n",
    "    #salva new_im\n",
    "    new_im.save(f'./captcha/completi/{filename}{v}.png') # es stringa AEDTG45.png"
   ]
  },
  {
   "cell_type": "code",
   "execution_count": null,
   "metadata": {},
   "outputs": [],
   "source": [
    "#Croppa tutti i captcha e smista le lettere nelle cartelle\n",
    "path = \"./captcha/completi/\"\n",
    "dirs = os.listdir( path )\n",
    "\n",
    "for item in dirs:\n",
    "    if os.path.isfile(path+item):\n",
    "        lenght_img = int(Image.open(path+item).size[0] / 200)\n",
    "        for i in range(0,lenght_img):\n",
    "            im = Image.open(path+item)\n",
    "            #crop ogni 200px lenght_img volte\n",
    "            #0,0 200,200 - 200,0 400,200 - 400,0 600, 200\n",
    "            current_box = im.crop((200*i,0,200*(i+1),200))\n",
    "\n",
    "            #legge la lettera corrispondente\n",
    "            if not os.path.exists(\"./captcha/singoli/\"+item[i]):\n",
    "                os.makedirs(\"./captcha/singoli/\"+item[i])\n",
    "            #salva nella cartella corrispondente\n",
    "            current_box.save(f\"./captcha/singoli/{item[i]}/{i}{time.time()}.png\")\n",
    "            \n"
   ]
  },
  {
   "cell_type": "markdown",
   "metadata": {},
   "source": [
    "# Organizzazione files"
   ]
  },
  {
   "cell_type": "markdown",
   "metadata": {},
   "source": [
    "Il numero di campioni nelle varie cartelle viene uniformato con il numero di campioni del meno frequente"
   ]
  },
  {
   "cell_type": "code",
   "execution_count": null,
   "metadata": {},
   "outputs": [],
   "source": [
    "import os, os.path"
   ]
  },
  {
   "cell_type": "code",
   "execution_count": null,
   "metadata": {},
   "outputs": [],
   "source": [
    "path = \"./captcha/singoli/\"\n",
    "dirs = os.listdir( path )\n",
    "smp_num = []\n",
    "\n",
    "#List number of elements per folder\n",
    "for item in dirs:\n",
    "    folder = ([(f) for f in os.listdir(path+item) if os.path.isfile(os.path.join(path,item,f))])\n",
    "    old_lenght = len(folder)\n",
    "    smp_num.append((len([f for f in os.listdir(path+item) if os.path.isfile(os.path.join(path,item,f))])))\n",
    "    print(item, old_lenght)\n",
    "\n",
    "minimum = min(smp_num)\n",
    "print(\"The minimum is\",minimum)"
   ]
  },
  {
   "cell_type": "code",
   "execution_count": null,
   "metadata": {},
   "outputs": [],
   "source": [
    "smp_num=[]\n",
    "\n",
    "#Cancella il numero di elementi in eccesso per cartella\n",
    "for item in dirs:\n",
    "    folder = ([(f) for f in os.listdir(path+item) if os.path.isfile(os.path.join(path,item,f))])\n",
    "    old_lenght = len(folder)\n",
    "    \n",
    "    smp_num.append((len([f for f in os.listdir(path+item) if os.path.isfile(os.path.join(path,item,f))])))\n",
    "    \n",
    "    #per ogni folder, rimuovi len(folder) - minimum elementi\n",
    "    times = (len(folder)-minimum)\n",
    "    for i in range(0,times):\n",
    "        os.remove(os.path.join(path, item ,folder[i]))\n",
    "        folder.pop(i)\n",
    "    \n",
    "    new_lenght = len(folder)\n",
    "    print(item,old_lenght, \"->\", new_lenght)\n",
    "    "
   ]
  },
  {
   "cell_type": "code",
   "execution_count": null,
   "metadata": {},
   "outputs": [],
   "source": [
    "#Split library\n",
    "import split_folders"
   ]
  },
  {
   "cell_type": "code",
   "execution_count": null,
   "metadata": {},
   "outputs": [],
   "source": [
    "input_folder = path\n",
    "# Split with a ratio.\n",
    "# To only split into training and validation set, set a tuple to `ratio`, i.e, `(.8, .2)`.\n",
    "split_folders.ratio(input_folder, output=\"output\", ratio=(.6, .2, .2)) "
   ]
  },
  {
   "cell_type": "markdown",
   "metadata": {},
   "source": [
    "# Generazione di captcha custom (opzionale)"
   ]
  },
  {
   "cell_type": "code",
   "execution_count": null,
   "metadata": {},
   "outputs": [],
   "source": [
    "parola = list(\"UNICT\")\n",
    "\n",
    "save_path = \"./CaptchaTest/\"\n",
    "\n",
    "path = \"./matrici/originale/output/\" \n",
    "dirs = os.listdir( path )\n",
    "\n",
    "num_images = len(parola)\n",
    "\n",
    "max_height = 200\n",
    "total_width = num_images*200\n",
    "\n",
    "\n",
    "new_im = Image.new(\"1\", (total_width, max_height))\n",
    "filename = \"\"\n",
    "x_offset = 0\n",
    "list_images = []\n",
    "\n",
    "matrici = []\n",
    "\n",
    "for l in parola:\n",
    "    print(str(l))\n",
    "    for k in dirs:\n",
    "        if getfirstUppercase(k) == l: #è buono e lo prendo\n",
    "            #print(k)\n",
    "            matrici.append(k)\n",
    "    curr_rand=random.randint(0,len(matrici)-1)\n",
    "    list_images.append(path+matrici[curr_rand])\n",
    "    matrici=[]\n",
    "            \n",
    "\n",
    "for im in list_images:\n",
    "    image_cur = Image.open(im)\n",
    "    new_im.paste(image_cur, (x_offset,0))\n",
    "    x_offset += image_cur.size[0]\n",
    "\n",
    "new_im = noisy(new_im,width=total_width,height=max_height)\n",
    "new_im.save(f'{save_path}{\"\".join(parola)}{random.randint(0,500)}.png') # es stringa AEDTG45.png"
   ]
  },
  {
   "cell_type": "code",
   "execution_count": null,
   "metadata": {},
   "outputs": [],
   "source": []
  },
  {
   "cell_type": "code",
   "execution_count": null,
   "metadata": {},
   "outputs": [],
   "source": []
  }
 ],
 "metadata": {
  "kernelspec": {
   "display_name": "Python 3",
   "language": "python",
   "name": "python3"
  },
  "language_info": {
   "codemirror_mode": {
    "name": "ipython",
    "version": 3
   },
   "file_extension": ".py",
   "mimetype": "text/x-python",
   "name": "python",
   "nbconvert_exporter": "python",
   "pygments_lexer": "ipython3",
   "version": "3.7.3"
  }
 },
 "nbformat": 4,
 "nbformat_minor": 2
}
