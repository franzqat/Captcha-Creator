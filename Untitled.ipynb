{
 "cells": [
  {
   "cell_type": "markdown",
   "metadata": {},
   "source": [
    "TODO:\n",
    "    meno pacman\n",
    "    "
   ]
  },
  {
   "cell_type": "markdown",
   "metadata": {},
   "source": [
    "# Creazione matrici png"
   ]
  },
  {
   "cell_type": "code",
   "execution_count": 149,
   "metadata": {},
   "outputs": [],
   "source": [
    "import PIL\n",
    "from PIL import ImageFont\n",
    "from PIL import Image\n",
    "from PIL import ImageDraw\n",
    "\n",
    "# font = ImageFont.truetype(\"Arial-Bold.ttf\",14)\n",
    "font = ImageFont.truetype(\"arial.ttf\", 100)\n",
    "\n"
   ]
  },
  {
   "cell_type": "code",
   "execution_count": 190,
   "metadata": {},
   "outputs": [],
   "source": []
  },
  {
   "cell_type": "code",
   "execution_count": 195,
   "metadata": {},
   "outputs": [],
   "source": [
    "size = 200\n",
    "def crea(lettera):\n",
    "\n",
    "    img=Image.new(\"1\", (size,size),color=1)\n",
    "    draw = ImageDraw.Draw(img)\n",
    "    #draw.text((17, 0),lettera,fill=0,font=font)\n",
    "    draw.text((50, 50),lettera,fill=0,font=font)\n",
    "    draw = ImageDraw.Draw(img)\n",
    "    #noisy(img,size)\n",
    "    img.save(f\"./smp/{lettera}.png\")\n",
    "    \n"
   ]
  },
  {
   "cell_type": "code",
   "execution_count": 200,
   "metadata": {},
   "outputs": [],
   "source": [
    "img=Image.new(\"1\", (300,300),color=1)\n",
    "\n",
    "draw = ImageDraw.Draw(img)\n",
    "#draw.text((17, 0),lettera,fill=0,font=font)\n",
    "draw.text((50, 150),\"CANE\",fill=0,font=font)\n",
    "draw = ImageDraw.Draw(img)\n",
    "img.save(\"a_test.png\")"
   ]
  },
  {
   "cell_type": "code",
   "execution_count": 201,
   "metadata": {},
   "outputs": [],
   "source": [
    "import random\n",
    "\n",
    "img=Image.open(\"./a_test.png\")\n",
    "draw = ImageDraw.Draw(img)\n",
    "#draw.text((17, 0),lettera,fill=0,font=font)\n",
    "draw.text((50, 150),\"CANE\",fill=0,font=font)\n",
    "noisy(img,300)\n",
    "img.save(\"a_test.png\")"
   ]
  },
  {
   "cell_type": "markdown",
   "metadata": {},
   "source": [
    "# Funzione di noise per i campioni"
   ]
  },
  {
   "cell_type": "code",
   "execution_count": 199,
   "metadata": {},
   "outputs": [],
   "source": [
    "def noisy(img,maxsize):\n",
    "    draw = ImageDraw.Draw(img)\n",
    "    for x in range(0,5):\n",
    "        draw.point((random.randint(0,maxsize),random.randint(0,maxsize)),0)\n",
    "        draw.pieslice([(random.randint(0,maxsize), random.randint(0,maxsize)), (random.randint(0,maxsize), random.randint(0,maxsize))],random.randint(0,30),random.randint(0,30),width=3)\n",
    "\n",
    "    return img"
   ]
  },
  {
   "cell_type": "code",
   "execution_count": 172,
   "metadata": {},
   "outputs": [],
   "source": [
    "#creazione matrici\n",
    "import string\n",
    "alfabeto = list(string.ascii_uppercase) #or list(map(chr, range(ord('a'), ord('z')+1)))\n",
    "\n",
    "for l in alfabeto:\n",
    "    crea(l)"
   ]
  },
  {
   "cell_type": "code",
   "execution_count": 176,
   "metadata": {},
   "outputs": [
    {
     "name": "stdout",
     "output_type": "stream",
     "text": [
      "Initialised with 2 image(s) found.\n",
      "Output directory set to ./smp/output."
     ]
    }
   ],
   "source": [
    "import Augmentor\n",
    "p = Augmentor.Pipeline(f\"./smp/\")"
   ]
  },
  {
   "cell_type": "code",
   "execution_count": 177,
   "metadata": {},
   "outputs": [],
   "source": [
    "p.rotate(probability=0.7, max_left_rotation=10, max_right_rotation=10)\n",
    "#p.zoom(probability=0.5, min_factor=1.1, max_factor=1.5)\n",
    "p.random_distortion(probability=1, grid_width=5, grid_height=5, magnitude=8)\n",
    "#p.crop_by_size(probability=1, height = 50, width = 40,centre=True)\n",
    "p.skew(probability=1)"
   ]
  },
  {
   "cell_type": "code",
   "execution_count": 178,
   "metadata": {},
   "outputs": [
    {
     "name": "stderr",
     "output_type": "stream",
     "text": [
      "Processing <PIL.Image.Image image mode=1 size=200x200 at 0x1D0FC240C18>: 100%|█| 200/200 [00:01<00:00, 112.84 Samples/s]\n"
     ]
    }
   ],
   "source": [
    "p.sample(200)"
   ]
  },
  {
   "cell_type": "code",
   "execution_count": 179,
   "metadata": {},
   "outputs": [],
   "source": [
    "img1=Image.open(\"./a_test.png\")\n",
    "img2=Image.open(\"./a_test.png\")"
   ]
  },
  {
   "cell_type": "markdown",
   "metadata": {},
   "source": [
    "# Funzione di add noise per i campioni"
   ]
  },
  {
   "cell_type": "code",
   "execution_count": 187,
   "metadata": {},
   "outputs": [],
   "source": [
    "import os, sys\n",
    "\n",
    "path = \"./smp/output/\"\n",
    "dirs = os.listdir( path )\n",
    "\n",
    "for item in dirs:\n",
    "    if os.path.isfile(path+item):\n",
    "        im = Image.open(path+item)\n",
    "        f, e = os.path.splitext(path+item)\n",
    "        im = noisy(im,200)\n",
    "        im.save(f\"{f}.png\")\n"
   ]
  },
  {
   "cell_type": "code",
   "execution_count": null,
   "metadata": {},
   "outputs": [],
   "source": []
  }
 ],
 "metadata": {
  "kernelspec": {
   "display_name": "Python 3",
   "language": "python",
   "name": "python3"
  },
  "language_info": {
   "codemirror_mode": {
    "name": "ipython",
    "version": 3
   },
   "file_extension": ".py",
   "mimetype": "text/x-python",
   "name": "python",
   "nbconvert_exporter": "python",
   "pygments_lexer": "ipython3",
   "version": "3.7.1"
  }
 },
 "nbformat": 4,
 "nbformat_minor": 2
}
